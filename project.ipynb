{
 "cells": [
  {
   "cell_type": "code",
   "execution_count": 71,
   "metadata": {},
   "outputs": [],
   "source": [
    "import pandas as pd\n",
    "import json\n",
    "# Import TFIDF\n",
    "from sklearn.feature_extraction.text import TfidfVectorizer\n",
    "# Import cosine similarity\n",
    "from sklearn.metrics.pairwise import cosine_similarity\n",
    "import spacy\n",
    "import nltk\n",
    "import helper\n",
    "nlp = spacy.load(\"en_core_web_sm\")\n",
    "from string import punctuation\n",
    "import matplotlib.pyplot as plt\n",
    "import numpy as np"
   ]
  },
  {
   "cell_type": "code",
   "execution_count": 72,
   "metadata": {},
   "outputs": [],
   "source": [
    "# Read the dataset\n",
    "movies = pd.read_csv('tmdb_5000_movies.csv')\n",
    "cast = pd.read_csv('tmdb_5000_credits.csv')\n",
    "\n"
   ]
  },
  {
   "cell_type": "code",
   "execution_count": 73,
   "metadata": {},
   "outputs": [],
   "source": [
    "cast = cast.rename(columns={\"movie_id\":\"id\"})\n",
    "\n",
    "cast.drop('title',inplace=True,axis = 1)\n",
    "cast.drop('crew',inplace=True,axis = 1)"
   ]
  },
  {
   "cell_type": "code",
   "execution_count": 74,
   "metadata": {},
   "outputs": [
    {
     "data": {
      "text/html": [
       "<div>\n",
       "<style scoped>\n",
       "    .dataframe tbody tr th:only-of-type {\n",
       "        vertical-align: middle;\n",
       "    }\n",
       "\n",
       "    .dataframe tbody tr th {\n",
       "        vertical-align: top;\n",
       "    }\n",
       "\n",
       "    .dataframe thead th {\n",
       "        text-align: right;\n",
       "    }\n",
       "</style>\n",
       "<table border=\"1\" class=\"dataframe\">\n",
       "  <thead>\n",
       "    <tr style=\"text-align: right;\">\n",
       "      <th></th>\n",
       "      <th>budget</th>\n",
       "      <th>genres</th>\n",
       "      <th>homepage</th>\n",
       "      <th>id</th>\n",
       "      <th>keywords</th>\n",
       "      <th>original_language</th>\n",
       "      <th>original_title</th>\n",
       "      <th>overview</th>\n",
       "      <th>popularity</th>\n",
       "      <th>production_companies</th>\n",
       "      <th>production_countries</th>\n",
       "      <th>release_date</th>\n",
       "      <th>revenue</th>\n",
       "      <th>runtime</th>\n",
       "      <th>spoken_languages</th>\n",
       "      <th>status</th>\n",
       "      <th>tagline</th>\n",
       "      <th>title</th>\n",
       "      <th>vote_average</th>\n",
       "      <th>vote_count</th>\n",
       "    </tr>\n",
       "  </thead>\n",
       "  <tbody>\n",
       "    <tr>\n",
       "      <th>0</th>\n",
       "      <td>237000000</td>\n",
       "      <td>[{\"id\": 28, \"name\": \"Action\"}, {\"id\": 12, \"nam...</td>\n",
       "      <td>http://www.avatarmovie.com/</td>\n",
       "      <td>19995</td>\n",
       "      <td>[{\"id\": 1463, \"name\": \"culture clash\"}, {\"id\":...</td>\n",
       "      <td>en</td>\n",
       "      <td>Avatar</td>\n",
       "      <td>In the 22nd century, a paraplegic Marine is di...</td>\n",
       "      <td>150.437577</td>\n",
       "      <td>[{\"name\": \"Ingenious Film Partners\", \"id\": 289...</td>\n",
       "      <td>[{\"iso_3166_1\": \"US\", \"name\": \"United States o...</td>\n",
       "      <td>2009-12-10</td>\n",
       "      <td>2787965087</td>\n",
       "      <td>162.0</td>\n",
       "      <td>[{\"iso_639_1\": \"en\", \"name\": \"English\"}, {\"iso...</td>\n",
       "      <td>Released</td>\n",
       "      <td>Enter the World of Pandora.</td>\n",
       "      <td>Avatar</td>\n",
       "      <td>7.2</td>\n",
       "      <td>11800</td>\n",
       "    </tr>\n",
       "  </tbody>\n",
       "</table>\n",
       "</div>"
      ],
      "text/plain": [
       "      budget                                             genres  \\\n",
       "0  237000000  [{\"id\": 28, \"name\": \"Action\"}, {\"id\": 12, \"nam...   \n",
       "\n",
       "                      homepage     id  \\\n",
       "0  http://www.avatarmovie.com/  19995   \n",
       "\n",
       "                                            keywords original_language  \\\n",
       "0  [{\"id\": 1463, \"name\": \"culture clash\"}, {\"id\":...                en   \n",
       "\n",
       "  original_title                                           overview  \\\n",
       "0         Avatar  In the 22nd century, a paraplegic Marine is di...   \n",
       "\n",
       "   popularity                               production_companies  \\\n",
       "0  150.437577  [{\"name\": \"Ingenious Film Partners\", \"id\": 289...   \n",
       "\n",
       "                                production_countries release_date     revenue  \\\n",
       "0  [{\"iso_3166_1\": \"US\", \"name\": \"United States o...   2009-12-10  2787965087   \n",
       "\n",
       "   runtime                                   spoken_languages    status  \\\n",
       "0    162.0  [{\"iso_639_1\": \"en\", \"name\": \"English\"}, {\"iso...  Released   \n",
       "\n",
       "                       tagline   title  vote_average  vote_count  \n",
       "0  Enter the World of Pandora.  Avatar           7.2       11800  "
      ]
     },
     "execution_count": 74,
     "metadata": {},
     "output_type": "execute_result"
    }
   ],
   "source": [
    "movies.head(1)"
   ]
  },
  {
   "cell_type": "code",
   "execution_count": 75,
   "metadata": {},
   "outputs": [
    {
     "data": {
      "text/html": [
       "<div>\n",
       "<style scoped>\n",
       "    .dataframe tbody tr th:only-of-type {\n",
       "        vertical-align: middle;\n",
       "    }\n",
       "\n",
       "    .dataframe tbody tr th {\n",
       "        vertical-align: top;\n",
       "    }\n",
       "\n",
       "    .dataframe thead th {\n",
       "        text-align: right;\n",
       "    }\n",
       "</style>\n",
       "<table border=\"1\" class=\"dataframe\">\n",
       "  <thead>\n",
       "    <tr style=\"text-align: right;\">\n",
       "      <th></th>\n",
       "      <th>id</th>\n",
       "      <th>cast</th>\n",
       "    </tr>\n",
       "  </thead>\n",
       "  <tbody>\n",
       "    <tr>\n",
       "      <th>0</th>\n",
       "      <td>19995</td>\n",
       "      <td>[{\"cast_id\": 242, \"character\": \"Jake Sully\", \"...</td>\n",
       "    </tr>\n",
       "    <tr>\n",
       "      <th>1</th>\n",
       "      <td>285</td>\n",
       "      <td>[{\"cast_id\": 4, \"character\": \"Captain Jack Spa...</td>\n",
       "    </tr>\n",
       "    <tr>\n",
       "      <th>2</th>\n",
       "      <td>206647</td>\n",
       "      <td>[{\"cast_id\": 1, \"character\": \"James Bond\", \"cr...</td>\n",
       "    </tr>\n",
       "    <tr>\n",
       "      <th>3</th>\n",
       "      <td>49026</td>\n",
       "      <td>[{\"cast_id\": 2, \"character\": \"Bruce Wayne / Ba...</td>\n",
       "    </tr>\n",
       "    <tr>\n",
       "      <th>4</th>\n",
       "      <td>49529</td>\n",
       "      <td>[{\"cast_id\": 5, \"character\": \"John Carter\", \"c...</td>\n",
       "    </tr>\n",
       "  </tbody>\n",
       "</table>\n",
       "</div>"
      ],
      "text/plain": [
       "       id                                               cast\n",
       "0   19995  [{\"cast_id\": 242, \"character\": \"Jake Sully\", \"...\n",
       "1     285  [{\"cast_id\": 4, \"character\": \"Captain Jack Spa...\n",
       "2  206647  [{\"cast_id\": 1, \"character\": \"James Bond\", \"cr...\n",
       "3   49026  [{\"cast_id\": 2, \"character\": \"Bruce Wayne / Ba...\n",
       "4   49529  [{\"cast_id\": 5, \"character\": \"John Carter\", \"c..."
      ]
     },
     "execution_count": 75,
     "metadata": {},
     "output_type": "execute_result"
    }
   ],
   "source": [
    "cast.head()"
   ]
  },
  {
   "cell_type": "code",
   "execution_count": 76,
   "metadata": {},
   "outputs": [],
   "source": [
    "movies.genres = movies.genres.apply(json.loads)\n",
    "cast.cast = cast.cast.apply(json.loads)"
   ]
  },
  {
   "cell_type": "code",
   "execution_count": 77,
   "metadata": {},
   "outputs": [],
   "source": [
    "movies.genres = movies.genres.apply(helper.extract_genre)\n",
    "cast.cast = cast.cast.apply(helper.extract_cast)\n",
    "movies = movies.merge(cast, how='left', on='id')"
   ]
  },
  {
   "cell_type": "code",
   "execution_count": 78,
   "metadata": {},
   "outputs": [
    {
     "data": {
      "image/png": "[encoded data removed]",
      "text/plain": [
       "<Figure size 432x288 with 1 Axes>"
      ]
     },
     "metadata": {},
     "output_type": "display_data"
    }
   ],
   "source": [
    "val = movies.groupby(['genres'])['genres'].count().apply(lambda x: x / len(movies.genres))\n",
    "plt.pie(val,labels=sorted(set(movies.genres)),radius = 2.5)\n",
    "plt.show() "
   ]
  },
  {
   "cell_type": "code",
   "execution_count": 79,
   "metadata": {},
   "outputs": [],
   "source": [
    "movies = helper.create_dummies(movies,\"genres\")\n",
    "movies = helper.create_dummies(movies,\"cast\")"
   ]
  },
  {
   "cell_type": "code",
   "execution_count": 80,
   "metadata": {},
   "outputs": [],
   "source": [
    "movies.drop('homepage',inplace=True,axis = 1)\n",
    "movies.drop('id',inplace=True,axis = 1)\n",
    "movies.drop('original_language',inplace=True,axis = 1)\n",
    "movies.drop('keywords',inplace=True,axis = 1)\n",
    "movies.drop('production_companies',inplace=True,axis = 1)\n",
    "movies.drop('production_countries',inplace=True,axis = 1)\n",
    "movies.drop('release_date',inplace=True,axis = 1)\n",
    "movies.drop('spoken_languages',inplace=True,axis = 1)\n",
    "movies.drop('status',inplace=True,axis = 1)\n",
    "movies.drop('tagline',inplace=True,axis = 1)\n",
    "movies.drop('vote_count',inplace=True,axis = 1)"
   ]
  },
  {
   "cell_type": "code",
   "execution_count": 81,
   "metadata": {},
   "outputs": [
    {
     "data": {
      "text/html": [
       "<div>\n",
       "<style scoped>\n",
       "    .dataframe tbody tr th:only-of-type {\n",
       "        vertical-align: middle;\n",
       "    }\n",
       "\n",
       "    .dataframe tbody tr th {\n",
       "        vertical-align: top;\n",
       "    }\n",
       "\n",
       "    .dataframe thead th {\n",
       "        text-align: right;\n",
       "    }\n",
       "</style>\n",
       "<table border=\"1\" class=\"dataframe\">\n",
       "  <thead>\n",
       "    <tr style=\"text-align: right;\">\n",
       "      <th></th>\n",
       "      <th>budget</th>\n",
       "      <th>original_title</th>\n",
       "      <th>overview</th>\n",
       "      <th>popularity</th>\n",
       "      <th>revenue</th>\n",
       "      <th>runtime</th>\n",
       "      <th>title</th>\n",
       "      <th>vote_average</th>\n",
       "      <th>genres_Action</th>\n",
       "      <th>genres_Adventure</th>\n",
       "      <th>...</th>\n",
       "      <th>cast_Woody Allen</th>\n",
       "      <th>cast_Woody Harrelson</th>\n",
       "      <th>cast_Yuri Lowenthal</th>\n",
       "      <th>cast_Yuria Nara</th>\n",
       "      <th>cast_Zac Efron</th>\n",
       "      <th>cast_Zach Braff</th>\n",
       "      <th>cast_Zach Galligan</th>\n",
       "      <th>cast_Zachary Levi</th>\n",
       "      <th>cast_Zhang Ziyi</th>\n",
       "      <th>cast_Zoe Saldana</th>\n",
       "    </tr>\n",
       "  </thead>\n",
       "  <tbody>\n",
       "    <tr>\n",
       "      <th>0</th>\n",
       "      <td>237000000</td>\n",
       "      <td>Avatar</td>\n",
       "      <td>In the 22nd century, a paraplegic Marine is di...</td>\n",
       "      <td>150.437577</td>\n",
       "      <td>2787965087</td>\n",
       "      <td>162.0</td>\n",
       "      <td>Avatar</td>\n",
       "      <td>7.2</td>\n",
       "      <td>1</td>\n",
       "      <td>0</td>\n",
       "      <td>...</td>\n",
       "      <td>0</td>\n",
       "      <td>0</td>\n",
       "      <td>0</td>\n",
       "      <td>0</td>\n",
       "      <td>0</td>\n",
       "      <td>0</td>\n",
       "      <td>0</td>\n",
       "      <td>0</td>\n",
       "      <td>0</td>\n",
       "      <td>0</td>\n",
       "    </tr>\n",
       "    <tr>\n",
       "      <th>1</th>\n",
       "      <td>300000000</td>\n",
       "      <td>Pirates of the Caribbean: At World's End</td>\n",
       "      <td>Captain Barbossa, long believed to be dead, ha...</td>\n",
       "      <td>139.082615</td>\n",
       "      <td>961000000</td>\n",
       "      <td>169.0</td>\n",
       "      <td>Pirates of the Caribbean: At World's End</td>\n",
       "      <td>6.9</td>\n",
       "      <td>0</td>\n",
       "      <td>1</td>\n",
       "      <td>...</td>\n",
       "      <td>0</td>\n",
       "      <td>0</td>\n",
       "      <td>0</td>\n",
       "      <td>0</td>\n",
       "      <td>0</td>\n",
       "      <td>0</td>\n",
       "      <td>0</td>\n",
       "      <td>0</td>\n",
       "      <td>0</td>\n",
       "      <td>0</td>\n",
       "    </tr>\n",
       "    <tr>\n",
       "      <th>2</th>\n",
       "      <td>245000000</td>\n",
       "      <td>Spectre</td>\n",
       "      <td>A cryptic message from Bond’s past sends him o...</td>\n",
       "      <td>107.376788</td>\n",
       "      <td>880674609</td>\n",
       "      <td>148.0</td>\n",
       "      <td>Spectre</td>\n",
       "      <td>6.3</td>\n",
       "      <td>1</td>\n",
       "      <td>0</td>\n",
       "      <td>...</td>\n",
       "      <td>0</td>\n",
       "      <td>0</td>\n",
       "      <td>0</td>\n",
       "      <td>0</td>\n",
       "      <td>0</td>\n",
       "      <td>0</td>\n",
       "      <td>0</td>\n",
       "      <td>0</td>\n",
       "      <td>0</td>\n",
       "      <td>0</td>\n",
       "    </tr>\n",
       "    <tr>\n",
       "      <th>3</th>\n",
       "      <td>250000000</td>\n",
       "      <td>The Dark Knight Rises</td>\n",
       "      <td>Following the death of District Attorney Harve...</td>\n",
       "      <td>112.312950</td>\n",
       "      <td>1084939099</td>\n",
       "      <td>165.0</td>\n",
       "      <td>The Dark Knight Rises</td>\n",
       "      <td>7.6</td>\n",
       "      <td>1</td>\n",
       "      <td>0</td>\n",
       "      <td>...</td>\n",
       "      <td>0</td>\n",
       "      <td>0</td>\n",
       "      <td>0</td>\n",
       "      <td>0</td>\n",
       "      <td>0</td>\n",
       "      <td>0</td>\n",
       "      <td>0</td>\n",
       "      <td>0</td>\n",
       "      <td>0</td>\n",
       "      <td>0</td>\n",
       "    </tr>\n",
       "    <tr>\n",
       "      <th>4</th>\n",
       "      <td>260000000</td>\n",
       "      <td>John Carter</td>\n",
       "      <td>John Carter is a war-weary, former military ca...</td>\n",
       "      <td>43.926995</td>\n",
       "      <td>284139100</td>\n",
       "      <td>132.0</td>\n",
       "      <td>John Carter</td>\n",
       "      <td>6.1</td>\n",
       "      <td>1</td>\n",
       "      <td>0</td>\n",
       "      <td>...</td>\n",
       "      <td>0</td>\n",
       "      <td>0</td>\n",
       "      <td>0</td>\n",
       "      <td>0</td>\n",
       "      <td>0</td>\n",
       "      <td>0</td>\n",
       "      <td>0</td>\n",
       "      <td>0</td>\n",
       "      <td>0</td>\n",
       "      <td>0</td>\n",
       "    </tr>\n",
       "  </tbody>\n",
       "</table>\n",
       "<p>5 rows × 730 columns</p>\n",
       "</div>"
      ],
      "text/plain": [
       "      budget                            original_title  \\\n",
       "0  237000000                                    Avatar   \n",
       "1  300000000  Pirates of the Caribbean: At World's End   \n",
       "2  245000000                                   Spectre   \n",
       "3  250000000                     The Dark Knight Rises   \n",
       "4  260000000                               John Carter   \n",
       "\n",
       "                                            overview  popularity     revenue  \\\n",
       "0  In the 22nd century, a paraplegic Marine is di...  150.437577  2787965087   \n",
       "1  Captain Barbossa, long believed to be dead, ha...  139.082615   961000000   \n",
       "2  A cryptic message from Bond’s past sends him o...  107.376788   880674609   \n",
       "3  Following the death of District Attorney Harve...  112.312950  1084939099   \n",
       "4  John Carter is a war-weary, former military ca...   43.926995   284139100   \n",
       "\n",
       "   runtime                                     title  vote_average  \\\n",
       "0    162.0                                    Avatar           7.2   \n",
       "1    169.0  Pirates of the Caribbean: At World's End           6.9   \n",
       "2    148.0                                   Spectre           6.3   \n",
       "3    165.0                     The Dark Knight Rises           7.6   \n",
       "4    132.0                               John Carter           6.1   \n",
       "\n",
       "   genres_Action  genres_Adventure  ...  cast_Woody Allen  \\\n",
       "0              1                 0  ...                 0   \n",
       "1              0                 1  ...                 0   \n",
       "2              1                 0  ...                 0   \n",
       "3              1                 0  ...                 0   \n",
       "4              1                 0  ...                 0   \n",
       "\n",
       "   cast_Woody Harrelson  cast_Yuri Lowenthal  cast_Yuria Nara  cast_Zac Efron  \\\n",
       "0                     0                    0                0               0   \n",
       "1                     0                    0                0               0   \n",
       "2                     0                    0                0               0   \n",
       "3                     0                    0                0               0   \n",
       "4                     0                    0                0               0   \n",
       "\n",
       "   cast_Zach Braff  cast_Zach Galligan  cast_Zachary Levi  cast_Zhang Ziyi  \\\n",
       "0                0                   0                  0                0   \n",
       "1                0                   0                  0                0   \n",
       "2                0                   0                  0                0   \n",
       "3                0                   0                  0                0   \n",
       "4                0                   0                  0                0   \n",
       "\n",
       "   cast_Zoe Saldana  \n",
       "0                 0  \n",
       "1                 0  \n",
       "2                 0  \n",
       "3                 0  \n",
       "4                 0  \n",
       "\n",
       "[5 rows x 730 columns]"
      ]
     },
     "execution_count": 81,
     "metadata": {},
     "output_type": "execute_result"
    }
   ],
   "source": [
    "movies.head()"
   ]
  },
  {
   "cell_type": "code",
   "execution_count": 82,
   "metadata": {},
   "outputs": [],
   "source": [
    "paragraph=\" \".join(movies.overview.to_list())\n",
    "movies.overview = movies.overview.apply(helper.get_hotwords)"
   ]
  },
  {
   "cell_type": "code",
   "execution_count": 83,
   "metadata": {},
   "outputs": [
    {
     "name": "stdout",
     "output_type": "stream",
     "text": [
      "Nb of keywords in variable 'overview': 5158\n"
     ]
    }
   ],
   "source": [
    "df_duplicate_cleaned = movies\n",
    "keywords, keywords_roots, keywords_select = helper.keywords_inventory(df_duplicate_cleaned,\n",
    "                                                               colonne = 'overview')"
   ]
  },
  {
   "cell_type": "code",
   "execution_count": 84,
   "metadata": {},
   "outputs": [],
   "source": [
    "    \n",
    "df_keywords_cleaned = helper.remplacement_df_keywords(df_duplicate_cleaned, keywords_select,\n",
    "                                               roots = True)"
   ]
  },
  {
   "cell_type": "code",
   "execution_count": 85,
   "metadata": {},
   "outputs": [],
   "source": [
    "movies = df_keywords_cleaned"
   ]
  },
  {
   "cell_type": "code",
   "execution_count": 86,
   "metadata": {},
   "outputs": [],
   "source": [
    "syn_dict = helper.create_syndict(movies)"
   ]
  },
  {
   "cell_type": "code",
   "execution_count": 87,
   "metadata": {},
   "outputs": [],
   "source": [
    "for index, row in movies.iterrows():\n",
    "    words = row.overview.split(\" \")\n",
    "    for word in words:\n",
    "        max_occ = 0\n",
    "        syn_toreplace = \"\"\n",
    "        syns = helper.get_synonymes(word)\n",
    "        syns.add(word)\n",
    "        syns = set(syns)\n",
    "        if len(syns) > 1:\n",
    "            for syn in syns:\n",
    "                if len(syn) < 3:\n",
    "                    continue\n",
    "                occ = syn_dict[syn]\n",
    "                if occ > max_occ:\n",
    "                    max_occ = occ\n",
    "                    syn_toreplace = syn \n",
    "            new = movies.iloc[index].overview.replace(word,syn_toreplace).split(\" \")\n",
    "            movies.at[index, 'overview'] = \" \".join(set(new))\n",
    "\n",
    "            #movies.loc[index, 'overview'] = set(movies.iloc[index].overview.replace(word,syn_toreplace))"
   ]
  },
  {
   "cell_type": "code",
   "execution_count": 88,
   "metadata": {},
   "outputs": [
    {
     "data": {
      "text/plain": [
       "(2000, 4415)"
      ]
     },
     "execution_count": 88,
     "metadata": {},
     "output_type": "execute_result"
    }
   ],
   "source": [
    "# Compute the Cosine Similarity\n",
    "tfidf = TfidfVectorizer(analyzer='word',\n",
    "                      token_pattern=r'\\w{1,}', \n",
    "                      stop_words = 'english')\n",
    "\n",
    "# Filling NaNs with empty string\n",
    "df_keywords_cleaned['overview'] = movies['overview'].fillna('')\n",
    "\n",
    "# Fitting the TF-IDF on the 'overview' text\n",
    "tfidf_matrix = tfidf.fit_transform(df_keywords_cleaned['overview'])\n",
    "\n",
    "tfidf_matrix.shape"
   ]
  },
  {
   "cell_type": "code",
   "execution_count": 89,
   "metadata": {},
   "outputs": [
    {
     "name": "stdout",
     "output_type": "stream",
     "text": [
      "      1000  10th  119  15th  1700s  1910  1950s  1970s  1980s   26  ...  \\\n",
      "0      0.0   0.0  0.0   0.0    0.0   0.0    0.0    0.0    0.0  0.0  ...   \n",
      "1      0.0   0.0  0.0   0.0    0.0   0.0    0.0    0.0    0.0  0.0  ...   \n",
      "2      0.0   0.0  0.0   0.0    0.0   0.0    0.0    0.0    0.0  0.0  ...   \n",
      "3      0.0   0.0  0.0   0.0    0.0   0.0    0.0    0.0    0.0  0.0  ...   \n",
      "4      0.0   0.0  0.0   0.0    0.0   0.0    0.0    0.0    0.0  0.0  ...   \n",
      "...    ...   ...  ...   ...    ...   ...    ...    ...    ...  ...  ...   \n",
      "1995   0.0   0.0  0.0   0.0    0.0   0.0    0.0    0.0    0.0  0.0  ...   \n",
      "1996   0.0   0.0  0.0   0.0    0.0   0.0    0.0    0.0    0.0  0.0  ...   \n",
      "1997   0.0   0.0  0.0   0.0    0.0   0.0    0.0    0.0    0.0  0.0  ...   \n",
      "1998   0.0   0.0  0.0   0.0    0.0   0.0    0.0    0.0    0.0  0.0  ...   \n",
      "1999   0.0   0.0  0.0   0.0    0.0   0.0    0.0    0.0    0.0  0.0  ...   \n",
      "\n",
      "      zebra  zeta  zimmer  zip  zodiac  zoe  zone  zookeeper  zoological  \\\n",
      "0       0.0   0.0     0.0  0.0     0.0  0.0   0.0        0.0         0.0   \n",
      "1       0.0   0.0     0.0  0.0     0.0  0.0   0.0        0.0         0.0   \n",
      "2       0.0   0.0     0.0  0.0     0.0  0.0   0.0        0.0         0.0   \n",
      "3       0.0   0.0     0.0  0.0     0.0  0.0   0.0        0.0         0.0   \n",
      "4       0.0   0.0     0.0  0.0     0.0  0.0   0.0        0.0         0.0   \n",
      "...     ...   ...     ...  ...     ...  ...   ...        ...         ...   \n",
      "1995    0.0   0.0     0.0  0.0     0.0  0.0   0.0        0.0         0.0   \n",
      "1996    0.0   0.0     0.0  0.0     0.0  0.0   0.0        0.0         0.0   \n",
      "1997    0.0   0.0     0.0  0.0     0.0  0.0   0.0        0.0         0.0   \n",
      "1998    0.0   0.0     0.0  0.0     0.0  0.0   0.0        0.0         0.0   \n",
      "1999    0.0   0.0     0.0  0.0     0.0  0.0   0.0        0.0         0.0   \n",
      "\n",
      "      zorro  \n",
      "0       0.0  \n",
      "1       0.0  \n",
      "2       0.0  \n",
      "3       0.0  \n",
      "4       0.0  \n",
      "...     ...  \n",
      "1995    0.0  \n",
      "1996    0.0  \n",
      "1997    0.0  \n",
      "1998    0.0  \n",
      "1999    0.0  \n",
      "\n",
      "[2000 rows x 4415 columns]\n"
     ]
    },
    {
     "name": "stderr",
     "output_type": "stream",
     "text": [
      "c:\\Python38\\lib\\site-packages\\sklearn\\utils\\deprecation.py:87: FutureWarning: Function get_feature_names is deprecated; get_feature_names is deprecated in 1.0 and will be removed in 1.2. Please use get_feature_names_out instead.\n",
      "  warnings.warn(msg, category=FutureWarning)\n"
     ]
    }
   ],
   "source": [
    "df1 = pd.DataFrame(tfidf_matrix.toarray(), columns=tfidf.get_feature_names())\n",
    "print(df1)"
   ]
  },
  {
   "cell_type": "code",
   "execution_count": 90,
   "metadata": {},
   "outputs": [],
   "source": [
    "res = pd.concat([df_keywords_cleaned, df1], axis=1)\n"
   ]
  },
  {
   "cell_type": "code",
   "execution_count": 91,
   "metadata": {},
   "outputs": [
    {
     "data": {
      "text/html": [
       "<div>\n",
       "<style scoped>\n",
       "    .dataframe tbody tr th:only-of-type {\n",
       "        vertical-align: middle;\n",
       "    }\n",
       "\n",
       "    .dataframe tbody tr th {\n",
       "        vertical-align: top;\n",
       "    }\n",
       "\n",
       "    .dataframe thead th {\n",
       "        text-align: right;\n",
       "    }\n",
       "</style>\n",
       "<table border=\"1\" class=\"dataframe\">\n",
       "  <thead>\n",
       "    <tr style=\"text-align: right;\">\n",
       "      <th></th>\n",
       "      <th>budget</th>\n",
       "      <th>original_title</th>\n",
       "      <th>overview</th>\n",
       "      <th>popularity</th>\n",
       "      <th>revenue</th>\n",
       "      <th>runtime</th>\n",
       "      <th>title</th>\n",
       "      <th>vote_average</th>\n",
       "      <th>genres_Action</th>\n",
       "      <th>genres_Adventure</th>\n",
       "      <th>...</th>\n",
       "      <th>zebra</th>\n",
       "      <th>zeta</th>\n",
       "      <th>zimmer</th>\n",
       "      <th>zip</th>\n",
       "      <th>zodiac</th>\n",
       "      <th>zoe</th>\n",
       "      <th>zone</th>\n",
       "      <th>zookeeper</th>\n",
       "      <th>zoological</th>\n",
       "      <th>zorro</th>\n",
       "    </tr>\n",
       "  </thead>\n",
       "  <tbody>\n",
       "    <tr>\n",
       "      <th>0</th>\n",
       "      <td>237000000</td>\n",
       "      <td>Avatar</td>\n",
       "      <td>pandora society moonshine culture one c marin ...</td>\n",
       "      <td>150.437577</td>\n",
       "      <td>2787965087</td>\n",
       "      <td>162.0</td>\n",
       "      <td>Avatar</td>\n",
       "      <td>7.2</td>\n",
       "      <td>1</td>\n",
       "      <td>0</td>\n",
       "      <td>...</td>\n",
       "      <td>0.0</td>\n",
       "      <td>0.0</td>\n",
       "      <td>0.0</td>\n",
       "      <td>0.0</td>\n",
       "      <td>0.0</td>\n",
       "      <td>0.0</td>\n",
       "      <td>0.0</td>\n",
       "      <td>0.0</td>\n",
       "      <td>0.0</td>\n",
       "      <td>0.0</td>\n",
       "    </tr>\n",
       "    <tr>\n",
       "      <th>1</th>\n",
       "      <td>300000000</td>\n",
       "      <td>Pirates of the Caribbean: At World's End</td>\n",
       "      <td>spirit bound world</td>\n",
       "      <td>139.082615</td>\n",
       "      <td>961000000</td>\n",
       "      <td>169.0</td>\n",
       "      <td>Pirates of the Caribbean: At World's End</td>\n",
       "      <td>6.9</td>\n",
       "      <td>0</td>\n",
       "      <td>1</td>\n",
       "      <td>...</td>\n",
       "      <td>0.0</td>\n",
       "      <td>0.0</td>\n",
       "      <td>0.0</td>\n",
       "      <td>0.0</td>\n",
       "      <td>0.0</td>\n",
       "      <td>0.0</td>\n",
       "      <td>0.0</td>\n",
       "      <td>0.0</td>\n",
       "      <td>0.0</td>\n",
       "      <td>0.0</td>\n",
       "    </tr>\n",
       "    <tr>\n",
       "      <th>2</th>\n",
       "      <td>245000000</td>\n",
       "      <td>Spectre</td>\n",
       "      <td>tense past level skin power harmonium trueness...</td>\n",
       "      <td>107.376788</td>\n",
       "      <td>880674609</td>\n",
       "      <td>148.0</td>\n",
       "      <td>Spectre</td>\n",
       "      <td>6.3</td>\n",
       "      <td>1</td>\n",
       "      <td>0</td>\n",
       "      <td>...</td>\n",
       "      <td>0.0</td>\n",
       "      <td>0.0</td>\n",
       "      <td>0.0</td>\n",
       "      <td>0.0</td>\n",
       "      <td>0.0</td>\n",
       "      <td>0.0</td>\n",
       "      <td>0.0</td>\n",
       "      <td>0.0</td>\n",
       "      <td>0.0</td>\n",
       "      <td>0.0</td>\n",
       "    </tr>\n",
       "    <tr>\n",
       "      <th>3</th>\n",
       "      <td>250000000</td>\n",
       "      <td>The Dark Knight Rises</td>\n",
       "      <td>end answer scourge drawing dominion criminal s...</td>\n",
       "      <td>112.312950</td>\n",
       "      <td>1084939099</td>\n",
       "      <td>165.0</td>\n",
       "      <td>The Dark Knight Rises</td>\n",
       "      <td>7.6</td>\n",
       "      <td>1</td>\n",
       "      <td>0</td>\n",
       "      <td>...</td>\n",
       "      <td>0.0</td>\n",
       "      <td>0.0</td>\n",
       "      <td>0.0</td>\n",
       "      <td>0.0</td>\n",
       "      <td>0.0</td>\n",
       "      <td>0.0</td>\n",
       "      <td>0.0</td>\n",
       "      <td>0.0</td>\n",
       "      <td>0.0</td>\n",
       "      <td>0.0</td>\n",
       "    </tr>\n",
       "    <tr>\n",
       "      <th>4</th>\n",
       "      <td>260000000</td>\n",
       "      <td>John Carter</td>\n",
       "      <td>selection world planet threshold barsoom man c...</td>\n",
       "      <td>43.926995</td>\n",
       "      <td>284139100</td>\n",
       "      <td>132.0</td>\n",
       "      <td>John Carter</td>\n",
       "      <td>6.1</td>\n",
       "      <td>1</td>\n",
       "      <td>0</td>\n",
       "      <td>...</td>\n",
       "      <td>0.0</td>\n",
       "      <td>0.0</td>\n",
       "      <td>0.0</td>\n",
       "      <td>0.0</td>\n",
       "      <td>0.0</td>\n",
       "      <td>0.0</td>\n",
       "      <td>0.0</td>\n",
       "      <td>0.0</td>\n",
       "      <td>0.0</td>\n",
       "      <td>0.0</td>\n",
       "    </tr>\n",
       "  </tbody>\n",
       "</table>\n",
       "<p>5 rows × 5145 columns</p>\n",
       "</div>"
      ],
      "text/plain": [
       "      budget                            original_title  \\\n",
       "0  237000000                                    Avatar   \n",
       "1  300000000  Pirates of the Caribbean: At World's End   \n",
       "2  245000000                                   Spectre   \n",
       "3  250000000                     The Dark Knight Rises   \n",
       "4  260000000                               John Carter   \n",
       "\n",
       "                                            overview  popularity     revenue  \\\n",
       "0  pandora society moonshine culture one c marin ...  150.437577  2787965087   \n",
       "1                                 spirit bound world  139.082615   961000000   \n",
       "2  tense past level skin power harmonium trueness...  107.376788   880674609   \n",
       "3  end answer scourge drawing dominion criminal s...  112.312950  1084939099   \n",
       "4  selection world planet threshold barsoom man c...   43.926995   284139100   \n",
       "\n",
       "   runtime                                     title  vote_average  \\\n",
       "0    162.0                                    Avatar           7.2   \n",
       "1    169.0  Pirates of the Caribbean: At World's End           6.9   \n",
       "2    148.0                                   Spectre           6.3   \n",
       "3    165.0                     The Dark Knight Rises           7.6   \n",
       "4    132.0                               John Carter           6.1   \n",
       "\n",
       "   genres_Action  genres_Adventure  ...  zebra  zeta  zimmer  zip  zodiac  \\\n",
       "0              1                 0  ...    0.0   0.0     0.0  0.0     0.0   \n",
       "1              0                 1  ...    0.0   0.0     0.0  0.0     0.0   \n",
       "2              1                 0  ...    0.0   0.0     0.0  0.0     0.0   \n",
       "3              1                 0  ...    0.0   0.0     0.0  0.0     0.0   \n",
       "4              1                 0  ...    0.0   0.0     0.0  0.0     0.0   \n",
       "\n",
       "   zoe  zone  zookeeper  zoological  zorro  \n",
       "0  0.0   0.0        0.0         0.0    0.0  \n",
       "1  0.0   0.0        0.0         0.0    0.0  \n",
       "2  0.0   0.0        0.0         0.0    0.0  \n",
       "3  0.0   0.0        0.0         0.0    0.0  \n",
       "4  0.0   0.0        0.0         0.0    0.0  \n",
       "\n",
       "[5 rows x 5145 columns]"
      ]
     },
     "execution_count": 91,
     "metadata": {},
     "output_type": "execute_result"
    }
   ],
   "source": [
    "res.head()"
   ]
  },
  {
   "cell_type": "code",
   "execution_count": 92,
   "metadata": {},
   "outputs": [],
   "source": [
    "# Create a pandas series with movie titles as indices and indices as series values \n",
    "indices = pd.Series(movies.index, index=movies['original_title'])"
   ]
  },
  {
   "cell_type": "code",
   "execution_count": 93,
   "metadata": {},
   "outputs": [],
   "source": [
    "res = res.drop('original_title',axis = 1)\n",
    "res = res.drop('title',axis = 1)\n",
    "res = res.drop('overview',axis = 1)\n",
    "res = res.drop('popularity',axis = 1)\n",
    "res = res.drop('budget',axis = 1)\n",
    "res = res.drop('runtime',axis = 1)\n",
    "res = res.drop('revenue',axis = 1)\n",
    "res = res.drop('vote_average',axis = 1)"
   ]
  },
  {
   "cell_type": "code",
   "execution_count": 94,
   "metadata": {},
   "outputs": [],
   "source": [
    "similarity_matrix = cosine_similarity(res)"
   ]
  },
  {
   "cell_type": "code",
   "execution_count": 95,
   "metadata": {},
   "outputs": [
    {
     "data": {
      "text/plain": [
       "622                   Body of Lies\n",
       "1380      The Man in the Iron Mask\n",
       "1701    Once Upon a Time in Mexico\n",
       "914           Central Intelligence\n",
       "Name: original_title, dtype: object"
      ]
     },
     "execution_count": 95,
     "metadata": {},
     "output_type": "execute_result"
    }
   ],
   "source": [
    "title=\"Inception\"\n",
    "\n",
    "# Get the index corresponding to movie title\n",
    "index = indices[title]\n",
    "\n",
    "# Get the cosine similarity scores \n",
    "similarity_scores = list(enumerate(similarity_matrix[index]))\n",
    "\n",
    "\n",
    "# Sort the similarity scores in descending order\n",
    "sorted_similarity_scores = sorted(similarity_scores, key=lambda x: x[1], reverse=True)\n",
    "\n",
    "\n",
    "# Top-10 most similar movie scores\n",
    "top_10_movies_scores = sorted_similarity_scores[1:5]\n",
    "\n",
    "# Get movie indices\n",
    "top_10_movie_indices=[]\n",
    "for i in top_10_movies_scores:\n",
    "    top_10_movie_indices.append(i[0])\n",
    "    \n",
    "# Top 10 recommende movie\n",
    "movies['original_title'].iloc[top_10_movie_indices]"
   ]
  },
  {
   "cell_type": "code",
   "execution_count": 96,
   "metadata": {},
   "outputs": [
    {
     "data": {
      "text/plain": [
       "'someone fortune espionage mark subconscious spirit job requital origin stealer implantation mind'"
      ]
     },
     "execution_count": 96,
     "metadata": {},
     "output_type": "execute_result"
    }
   ],
   "source": [
    "\" \".join(movies[movies['original_title']==\"Inception\"].overview)"
   ]
  },
  {
   "cell_type": "code",
   "execution_count": 97,
   "metadata": {},
   "outputs": [
    {
     "data": {
      "text/plain": [
       "'general espionage factor'"
      ]
     },
     "execution_count": 97,
     "metadata": {},
     "output_type": "execute_result"
    }
   ],
   "source": [
    "\" \".join(movies[movies['original_title']==\"Once Upon a Time in Mexico\"].overview)"
   ]
  },
  {
   "cell_type": "code",
   "execution_count": 98,
   "metadata": {},
   "outputs": [
    {
     "data": {
      "text/plain": [
       "'world espionage facebook brother story'"
      ]
     },
     "execution_count": 98,
     "metadata": {},
     "output_type": "execute_result"
    }
   ],
   "source": [
    "\" \".join(movies[movies['original_title']==\"Central Intelligence\"].overview)"
   ]
  }
 ],
 "metadata": {
  "kernelspec": {
   "display_name": "Python 3.8.2 64-bit",
   "language": "python",
   "name": "python3"
  },
  "language_info": {
   "codemirror_mode": {
    "name": "ipython",
    "version": 3
   },
   "file_extension": ".py",
   "mimetype": "text/x-python",
   "name": "python",
   "nbconvert_exporter": "python",
   "pygments_lexer": "ipython3",
   "version": "3.8.2"
  },
  "orig_nbformat": 4,
  "vscode": {
   "interpreter": {
    "hash": "9650cb4e16cdd4a8e8e2d128bf38d875813998db22a3c986335f89e0cb4d7bb2"
   }
  }
 },
 "nbformat": 4,
 "nbformat_minor": 2
}
